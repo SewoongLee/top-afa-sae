{
 "cells": [
  {
   "cell_type": "code",
   "execution_count": 1,
   "id": "b11c87e3-e426-40a9-a873-5c69d593a183",
   "metadata": {},
   "outputs": [],
   "source": [
    "!pip install -q --upgrade typing_extensions pydantic huggingface_hub aiohttp multiprocess xxhash better-abc sentencepiece typeguard"
   ]
  },
  {
   "cell_type": "code",
   "execution_count": 2,
   "id": "8df85e53-f2ee-42ad-b4fc-6b61c2543fbf",
   "metadata": {},
   "outputs": [],
   "source": [
    "from training import train_sae, train_sae_group\n",
    "from sae import VanillaSAE, TopKSAE, BatchTopKSAE, JumpReLUSAE\n",
    "from sae import TopAFASAE\n",
    "from activation_store import ActivationsStore\n",
    "from config import get_default_cfg, post_init_cfg\n",
    "from transformer_lens import HookedTransformer"
   ]
  },
  {
   "cell_type": "code",
   "execution_count": 3,
   "id": "af5ff9db-7767-48da-8f51-6fb624929846",
   "metadata": {},
   "outputs": [
    {
     "name": "stdout",
     "output_type": "stream",
     "text": [
      "GPU Device ID: 0\n",
      "GPU Name: NVIDIA A100-SXM4-80GB\n",
      "Memory Allocated: 0.00 MB\n",
      "Memory Cached: 0.00 MB\n",
      "Total Memory: 81037.75 MB\n",
      "Compute Capability: (8, 0)\n",
      "Multiprocessors: 108\n",
      "CUDA Version: 12.1\n"
     ]
    }
   ],
   "source": [
    "import torch\n",
    "\n",
    "if torch.cuda.is_available():\n",
    "    device_id = torch.cuda.current_device()\n",
    "    print(f\"GPU Device ID: {device_id}\")\n",
    "    print(f\"GPU Name: {torch.cuda.get_device_name(device_id)}\")\n",
    "    print(f\"Memory Allocated: {torch.cuda.memory_allocated(device_id) / 1024**2:.2f} MB\")\n",
    "    print(f\"Memory Cached: {torch.cuda.memory_reserved(device_id) / 1024**2:.2f} MB\")\n",
    "    print(f\"Total Memory: {torch.cuda.get_device_properties(device_id).total_memory / 1024**2:.2f} MB\")\n",
    "    print(f\"Compute Capability: {torch.cuda.get_device_capability(device_id)}\")\n",
    "    print(f\"Multiprocessors: {torch.cuda.get_device_properties(device_id).multi_processor_count}\")\n",
    "    print(f\"CUDA Version: {torch.version.cuda}\")\n",
    "else:\n",
    "    print(\"CUDA is not available\")\n"
   ]
  },
  {
   "cell_type": "code",
   "execution_count": 4,
   "id": "cdc3af68-63fb-4012-8957-c8ca5d145320",
   "metadata": {},
   "outputs": [],
   "source": [
    "project_name = '25-03-19-1852-20k'\n",
    "\n",
    "num_tokens = int((20*1000+1)*4096)"
   ]
  },
  {
   "cell_type": "code",
   "execution_count": 5,
   "id": "55b1d354-dc41-47fd-9605-9ff422213f16",
   "metadata": {},
   "outputs": [],
   "source": [
    "experiments = [\n",
    "    ([6,7,8], 'topafa', [768*16], [0], [1/128, 1/64, 1/32, 1/24, 1/16]),\n",
    "    ([6,7,8], 'batchtopk', [768*16], [2**i for i in [13, 12, 11, 10, 9, 8, 7, 6, 5]], [0]), \n",
    "    ([6,7,8], 'topk', [768*16], [2**i for i in [13, 12, 11, 10, 9, 8, 7, 6, 5]], [0]),\n",
    "]"
   ]
  },
  {
   "cell_type": "code",
   "execution_count": null,
   "id": "614f975f",
   "metadata": {},
   "outputs": [],
   "source": [
    "for layers, sae_type, dict_sizes, ks, afa_coeffs in experiments:\n",
    "    for layer in layers:\n",
    "        for dict_size in dict_sizes:\n",
    "            for k in ks:\n",
    "                for afa_coeff in afa_coeffs:\n",
    "                    cfg = get_default_cfg()\n",
    "                \n",
    "                    cfg[\"model_name\"] = \"gpt2-small\"\n",
    "                    cfg[\"dict_size\"] = dict_size\n",
    "                    cfg[\"layer\"] = layer\n",
    "                    \n",
    "                    cfg[\"sae_type\"] = sae_type\n",
    "                    cfg[\"top_k\"] = k\n",
    "                    cfg[\"dataset_path\"] = \"Skylion007/openwebtext\"\n",
    "                    cfg[\"num_tokens\"] = num_tokens\n",
    "                    cfg['wandb_project'] = project_name\n",
    "                    \n",
    "                    if cfg[\"sae_type\"] == \"topk\":\n",
    "                        sae = TopKSAE(cfg)\n",
    "                    elif cfg[\"sae_type\"] == \"batchtopk\":\n",
    "                        sae = BatchTopKSAE(cfg)\n",
    "                    elif cfg[\"sae_type\"] == 'topafa':\n",
    "                        cfg['afa_coeff'] = afa_coeff\n",
    "                        sae = TopAFASAE(cfg)\n",
    "                \n",
    "                    cfg = post_init_cfg(cfg)\n",
    "                    print(cfg)\n",
    "                                \n",
    "                    model = HookedTransformer.from_pretrained(cfg[\"model_name\"]).to(cfg[\"dtype\"]).to(cfg[\"device\"])\n",
    "                    activations_store = ActivationsStore(model, cfg)\n",
    "                    train_sae(sae, activations_store, model, cfg)\n",
    "                    \n",
    "import wandb\n",
    "wandb.finish()"
   ]
  }
 ],
 "metadata": {
  "kernelspec": {
   "display_name": "Python 3 (ipykernel)",
   "language": "python",
   "name": "python3"
  },
  "language_info": {
   "codemirror_mode": {
    "name": "ipython",
    "version": 3
   },
   "file_extension": ".py",
   "mimetype": "text/x-python",
   "name": "python",
   "nbconvert_exporter": "python",
   "pygments_lexer": "ipython3",
   "version": "3.11.6"
  }
 },
 "nbformat": 4,
 "nbformat_minor": 5
}
