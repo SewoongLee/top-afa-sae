{
 "cells": [
  {
   "cell_type": "markdown",
   "metadata": {},
   "source": [
    "## Reproduction of the description length calculation\n",
    "\n",
    "Reference\n",
    "- Ayonrinde, Kola, Michael T. Pearce, and Lee Sharkey. \"Interpretability as Compression: Reconsidering SAE Explanations of Neural Activations.\" NeurIPS 2024 Workshop on Scientific Methods for Understanding Deep Learning, https://openreview.net/pdf?id=OvmW8HnGzK"
   ]
  },
  {
   "cell_type": "code",
   "execution_count": 1,
   "metadata": {},
   "outputs": [
    {
     "name": "stdout",
     "output_type": "stream",
     "text": [
      "Description Length: 1404.63 bits\n"
     ]
    }
   ],
   "source": [
    "import math\n",
    "\n",
    "def compute_description_length(L0, B, D):\n",
    "\n",
    "   log2_D = math.log2(D)\n",
    "   description_length = L0 * (B + log2_D)\n",
    "   return description_length\n",
    "\n",
    "# GPT-2 Sanity Check\n",
    "L0 = 65       # sparsity\n",
    "B = 7         # non-zero float bits\n",
    "D = 25000     # dictionary size\n",
    "\n",
    "dl_bits = compute_description_length(L0, B, D)\n",
    "print(f\"Description Length: {dl_bits:.2f} bits\")"
   ]
  },
  {
   "cell_type": "code",
   "execution_count": 2,
   "metadata": {},
   "outputs": [],
   "source": [
    "import pandas as pd\n",
    "\n",
    "def load_layer_csv(filepath, layer_number):\n",
    "    df = pd.read_csv(filepath)\n",
    "    df['layer'] = layer_number\n",
    "\n",
    "    def parse_name(name):\n",
    "        parts_underscore = name.split('_')\n",
    "        activation = parts_underscore[-3]\n",
    "        k = int(parts_underscore[-2])\n",
    "        return activation, k\n",
    "\n",
    "    df[['activation', 'k']] = df['Name'].apply(lambda name: pd.Series(parse_name(name)))\n",
    "    return df\n",
    "\n",
    "df6 = load_layer_csv(\"wandb_export_2025-03-27T13_59_12.395-05_00.csv\", 6)\n",
    "df7 = load_layer_csv(\"wandb_export_2025-03-27T13_59_41.831-05_00.csv\", 7)\n",
    "df8 = load_layer_csv(\"wandb_export_2025-03-27T14_00_03.325-05_00.csv\", 8)"
   ]
  },
  {
   "cell_type": "code",
   "execution_count": 3,
   "metadata": {},
   "outputs": [
    {
     "data": {
      "text/html": [
       "<div>\n",
       "<style scoped>\n",
       "    .dataframe tbody tr th:only-of-type {\n",
       "        vertical-align: middle;\n",
       "    }\n",
       "\n",
       "    .dataframe tbody tr th {\n",
       "        vertical-align: top;\n",
       "    }\n",
       "\n",
       "    .dataframe thead th {\n",
       "        text-align: right;\n",
       "    }\n",
       "</style>\n",
       "<table border=\"1\" class=\"dataframe\">\n",
       "  <thead>\n",
       "    <tr style=\"text-align: right;\">\n",
       "      <th></th>\n",
       "      <th>layer</th>\n",
       "      <th>activation</th>\n",
       "      <th>l0_norm</th>\n",
       "      <th>l2_loss</th>\n",
       "    </tr>\n",
       "  </thead>\n",
       "  <tbody>\n",
       "    <tr>\n",
       "      <th>0</th>\n",
       "      <td>6</td>\n",
       "      <td>batchtopk</td>\n",
       "      <td>1024.000000</td>\n",
       "      <td>0.000165</td>\n",
       "    </tr>\n",
       "    <tr>\n",
       "      <th>1</th>\n",
       "      <td>6</td>\n",
       "      <td>topafa</td>\n",
       "      <td>2037.287598</td>\n",
       "      <td>0.000164</td>\n",
       "    </tr>\n",
       "    <tr>\n",
       "      <th>2</th>\n",
       "      <td>6</td>\n",
       "      <td>topk</td>\n",
       "      <td>1023.493408</td>\n",
       "      <td>0.000174</td>\n",
       "    </tr>\n",
       "    <tr>\n",
       "      <th>3</th>\n",
       "      <td>7</td>\n",
       "      <td>batchtopk</td>\n",
       "      <td>2957.234619</td>\n",
       "      <td>0.000181</td>\n",
       "    </tr>\n",
       "    <tr>\n",
       "      <th>4</th>\n",
       "      <td>7</td>\n",
       "      <td>topafa</td>\n",
       "      <td>1930.104248</td>\n",
       "      <td>0.000195</td>\n",
       "    </tr>\n",
       "    <tr>\n",
       "      <th>5</th>\n",
       "      <td>7</td>\n",
       "      <td>topk</td>\n",
       "      <td>2957.234619</td>\n",
       "      <td>0.000181</td>\n",
       "    </tr>\n",
       "    <tr>\n",
       "      <th>6</th>\n",
       "      <td>8</td>\n",
       "      <td>batchtopk</td>\n",
       "      <td>1024.000000</td>\n",
       "      <td>0.000187</td>\n",
       "    </tr>\n",
       "    <tr>\n",
       "      <th>7</th>\n",
       "      <td>8</td>\n",
       "      <td>topafa</td>\n",
       "      <td>2195.765137</td>\n",
       "      <td>0.000166</td>\n",
       "    </tr>\n",
       "    <tr>\n",
       "      <th>8</th>\n",
       "      <td>8</td>\n",
       "      <td>topk</td>\n",
       "      <td>1023.324707</td>\n",
       "      <td>0.000177</td>\n",
       "    </tr>\n",
       "  </tbody>\n",
       "</table>\n",
       "</div>"
      ],
      "text/plain": [
       "   layer activation      l0_norm   l2_loss\n",
       "0      6  batchtopk  1024.000000  0.000165\n",
       "1      6     topafa  2037.287598  0.000164\n",
       "2      6       topk  1023.493408  0.000174\n",
       "3      7  batchtopk  2957.234619  0.000181\n",
       "4      7     topafa  1930.104248  0.000195\n",
       "5      7       topk  2957.234619  0.000181\n",
       "6      8  batchtopk  1024.000000  0.000187\n",
       "7      8     topafa  2195.765137  0.000166\n",
       "8      8       topk  1023.324707  0.000177"
      ]
     },
     "execution_count": 3,
     "metadata": {},
     "output_type": "execute_result"
    }
   ],
   "source": [
    "def get_best_l0_per_activation(df, layer_num):\n",
    "    result = df.loc[df.groupby('activation')['l2_loss'].idxmin()][['activation', 'l0_norm', 'l2_loss']]\n",
    "    result = result.sort_values(by='activation')\n",
    "    result.insert(0, 'layer', layer_num)\n",
    "    return result\n",
    "\n",
    "best_l0_df6 = get_best_l0_per_activation(df6, 6)\n",
    "best_l0_df7 = get_best_l0_per_activation(df7, 7)\n",
    "best_l0_df8 = get_best_l0_per_activation(df8, 8)\n",
    "\n",
    "summary_df = pd.concat([best_l0_df6, best_l0_df7, best_l0_df8], ignore_index=True)\n",
    "summary_df\n"
   ]
  },
  {
   "cell_type": "code",
   "execution_count": 4,
   "metadata": {},
   "outputs": [
    {
     "name": "stdout",
     "output_type": "stream",
     "text": [
      "|   layer | activation   |   tolerance |   MDL(tolerance) |\n",
      "|---------|--------------|-------------|------------------|\n",
      "|       6 | batchtopk    | 0.000165076 |          21079   |\n",
      "|       6 | topafa       | 0.000164111 |          41937.5 |\n",
      "|       6 | topk         | 0.000173874 |          21068.6 |\n",
      "|       7 | batchtopk    | 0.000181183 |          60874.6 |\n",
      "|       7 | topafa       | 0.000195328 |          39731.1 |\n",
      "|       7 | topk         | 0.000181183 |          60874.6 |\n",
      "|       8 | batchtopk    | 0.000187346 |          21079   |\n",
      "|       8 | topafa       | 0.000165902 |          45199.7 |\n",
      "|       8 | topk         | 0.000176545 |          21065.1 |\n"
     ]
    }
   ],
   "source": [
    "B = 7         # non-zero float bits\n",
    "D = 12288     # dictionary size\n",
    "\n",
    "summary_df['description_length'] = summary_df['l0_norm'].apply(lambda L0: compute_description_length(L0, B, D))\n",
    "\n",
    "final_df = summary_df.drop(columns=['l0_norm']).rename(columns={\n",
    "    'l2_loss': 'tolerance',\n",
    "    'description_length': 'MDL(tolerance)'\n",
    "})\n",
    "\n",
    "# table for OpenReview\n",
    "from tabulate import tabulate\n",
    "print(tabulate(final_df, headers=\"keys\", tablefmt=\"github\", showindex=False))"
   ]
  }
 ],
 "metadata": {
  "kernelspec": {
   "display_name": "Python 3",
   "language": "python",
   "name": "python3"
  },
  "language_info": {
   "codemirror_mode": {
    "name": "ipython",
    "version": 3
   },
   "file_extension": ".py",
   "mimetype": "text/x-python",
   "name": "python",
   "nbconvert_exporter": "python",
   "pygments_lexer": "ipython3",
   "version": "3.11.9"
  }
 },
 "nbformat": 4,
 "nbformat_minor": 2
}
